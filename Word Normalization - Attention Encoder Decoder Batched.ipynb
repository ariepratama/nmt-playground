{
 "cells": [
  {
   "cell_type": "code",
   "execution_count": 1,
   "metadata": {},
   "outputs": [],
   "source": [
    "import pandas as pd\n",
    "import numpy as np\n",
    "from sklearn.model_selection import train_test_split\n",
    "from tqdm import tqdm\n",
    "\n",
    "import torch.nn.functional as F\n",
    "import torch\n",
    "from torch.utils.data import Dataset, DataLoader\n",
    "from torchvision import transforms\n",
    "from torch import nn, optim\n",
    "from lib.torch_util import *"
   ]
  },
  {
   "cell_type": "code",
   "execution_count": 2,
   "metadata": {},
   "outputs": [],
   "source": [
    "df = pd.read_csv('colloquial-indonesian-lexicon.csv')"
   ]
  },
  {
   "cell_type": "code",
   "execution_count": 3,
   "metadata": {},
   "outputs": [],
   "source": [
    "columns = ['slang', 'formal']\n",
    "df_grouped = df.groupby(columns).agg('count').reset_index()[columns]"
   ]
  },
  {
   "cell_type": "code",
   "execution_count": 4,
   "metadata": {},
   "outputs": [],
   "source": [
    "class TextDataset(Dataset):\n",
    "    def __init__(self, X, y, transform=None):\n",
    "        super().__init__()\n",
    "        self.X = X\n",
    "        self.y = y\n",
    "        \n",
    "        self.transform = transform\n",
    "        \n",
    "    def __len__(self):\n",
    "        return self.X.shape[0]\n",
    "    \n",
    "    def __getitem__(self, idx):\n",
    "        slang = self.X.iloc[idx]\n",
    "        formal = self.y.iloc[idx]\n",
    "        \n",
    "        sample = {'slang': slang, 'formal': formal}\n",
    "        if self.transform:\n",
    "            sample = self.transform(sample)\n",
    "        \n",
    "        return sample\n",
    "        "
   ]
  },
  {
   "cell_type": "code",
   "execution_count": 5,
   "metadata": {},
   "outputs": [],
   "source": [
    "class ApplyPaddingToOrd(object):\n",
    "    def __init__(self, max_len):\n",
    "        self.max_len = max_len\n",
    "        \n",
    "    def __call__(self, sample):\n",
    "        return {\n",
    "            'slang': apply_padding_ord(sample['slang'], self.max_len), \n",
    "            'formal': apply_padding_ord(sample['formal'], self.max_len)\n",
    "        }\n",
    "    \n",
    "    \n",
    "class TextToOrd(object):\n",
    "    def __init__(self):\n",
    "        pass\n",
    "    def __call__(self, sample):\n",
    "        return {\n",
    "            'slang': lord(sample['slang']), \n",
    "            'formal': lord(sample['formal'])\n",
    "        }\n",
    "    \n",
    "class ToTensor(object):\n",
    "    def __init__(self):\n",
    "        pass\n",
    "    \n",
    "    def __call__(self, sample):\n",
    "        slang, formal = sample['slang'], sample['formal']\n",
    "        return {\n",
    "            'slang': torch.from_numpy(np.array(slang)),\n",
    "            'formal': torch.from_numpy(np.array(formal))\n",
    "        }"
   ]
  },
  {
   "cell_type": "code",
   "execution_count": 6,
   "metadata": {},
   "outputs": [],
   "source": [
    "batch_size = 512\n",
    "max_len_slang = 61"
   ]
  },
  {
   "cell_type": "code",
   "execution_count": 16,
   "metadata": {},
   "outputs": [],
   "source": [
    "X = df_grouped['slang']\n",
    "y = df_grouped['formal']\n",
    "\n",
    "X_train, X_test, X_val, y_train, y_test, y_val = split_train_test_val(X, y)\n",
    "transform = transforms.Compose([\n",
    "        TextToOrd(),\n",
    "        ApplyPaddingToOrd(max_len_slang),\n",
    "        ToTensor()\n",
    "    ])\n",
    "datasets = {\n",
    "    'train': TextDataset(X_train, y_train, transform),\n",
    "    'test': TextDataset(X_test, y_test, transform),\n",
    "    'val': TextDataset(X_val, y_val, transform)\n",
    "}"
   ]
  },
  {
   "cell_type": "code",
   "execution_count": 17,
   "metadata": {},
   "outputs": [],
   "source": [
    "dataloaders = {\n",
    "    x: torch.utils.data.DataLoader(\n",
    "        datasets[x], batch_size=batch_size, shuffle=True, num_workers=3\n",
    "    ) for x in ['train', 'test', 'val']\n",
    "}"
   ]
  },
  {
   "cell_type": "code",
   "execution_count": 18,
   "metadata": {},
   "outputs": [],
   "source": [
    "import logging as log\n",
    "logger = log.getLogger()\n",
    "logger.setLevel(log.ERROR)"
   ]
  },
  {
   "cell_type": "code",
   "execution_count": 19,
   "metadata": {},
   "outputs": [],
   "source": [
    "class Encoder(nn.Module):\n",
    "    def __init__(self, batch_size, vocab_size, hidden_size):\n",
    "        super(Encoder, self).__init__()\n",
    "        self.batch_size = batch_size\n",
    "        self.hidden_size = hidden_size\n",
    "        self.embedding = nn.Embedding(vocab_size, self.hidden_size, padding_idx=42)\n",
    "        self.gru = nn.GRU(self.hidden_size, hidden_size)\n",
    "        \n",
    "    def forward(self, input, hidden, batch_size):\n",
    "        # make into 1x1 dimension\n",
    "        log.info('input shape: {}'.format(input.shape))\n",
    "        embedded = self.embedding(\n",
    "            input\n",
    "        ).view(1, batch_size, -1)\n",
    "        \n",
    "        log.info('embedded result shape: {}'.format(embedded.shape))\n",
    "        \n",
    "        # gru or other RNN will output: output, hidden layer\n",
    "        output, hidden = self.gru(embedded, hidden)\n",
    "        \n",
    "        log.info('result shape: {} , {}'.format(output.shape, hidden.shape))\n",
    "        return output, hidden\n",
    "    def init_hidden(self, batch_size, device=device):\n",
    "        return torch.zeros(\n",
    "            1, batch_size, self.hidden_size\n",
    "            , device=device\n",
    "        )"
   ]
  },
  {
   "cell_type": "code",
   "execution_count": 20,
   "metadata": {},
   "outputs": [],
   "source": [
    "class AttnDecoder(nn.Module):\n",
    "    def __init__(self, batch_size, hidden_size, vocab_size, dropout_p = 0.1, max_length=61):\n",
    "        super(AttnDecoder, self).__init__()\n",
    "        self.batch_size = batch_size\n",
    "        self.hidden_size = hidden_size\n",
    "        self.max_length = max_length\n",
    "        \n",
    "        self.dropout_p = dropout_p\n",
    "        \n",
    "        self.embedding = nn.Embedding(vocab_size, hidden_size, padding_idx=42)\n",
    "        \n",
    "        \n",
    "        self.attn = nn.Linear(self.hidden_size * 2, self.max_length)\n",
    "        self.attn_combine = nn.Linear(self.hidden_size * 2, self.hidden_size)\n",
    "        self.dropout = nn.Dropout(self.dropout_p)\n",
    "        self.gru = nn.GRU(self.hidden_size, self.hidden_size)\n",
    "        \n",
    "        self.out = nn.Linear(self.hidden_size, vocab_size)\n",
    "        self.softmax = nn.LogSoftmax(dim=1)\n",
    "        \n",
    "    def forward(self, input, hidden, eo, batch_size):\n",
    "        # out shape: [1, batch_size, hidden_size]\n",
    "        embedded = self.embedding(input).view(\n",
    "            1, batch_size, -1\n",
    "        )\n",
    "        # out shape: [1, batch_size, hidden_size]\n",
    "        embedded = self.dropout(embedded)\n",
    "        \n",
    "        log.info('hidden shape: {}'.format(hidden.shape))\n",
    "        log.info('embedded shape: {}'.format(embedded.shape))\n",
    "        \n",
    "        attn_weights = F.softmax(\n",
    "            self.attn(\n",
    "                torch.cat( (embedded[0], hidden[0]), 1)\n",
    "            ),\n",
    "            dim=1\n",
    "        )\n",
    "        log.info('attention weight shape: {}'.format(attn_weights.shape))\n",
    "        log.info('encoder output shape: {}'.format(eo.shape))\n",
    "        attn_applied = torch.bmm(\n",
    "            attn_weights.unsqueeze(1)\n",
    "            , eo\n",
    "        ).view(1, batch_size, -1)\n",
    "        log.info('attn applied shape: {}'.format(attn_applied.shape))\n",
    "        output = torch.cat((embedded[0], attn_applied[0]), 1)\n",
    "        output = self.attn_combine(output).unsqueeze(0)\n",
    "        log.info('output shape: {}'.format(output.shape))\n",
    "        \n",
    "        output = F.relu(output)\n",
    "        output, hidden = self.gru(output, hidden)\n",
    "        output = self.softmax(self.out(output[0]))\n",
    "        return output, hidden, attn_weights\n",
    "    \n",
    "    def init_hidden(self, batch_size, device=device):\n",
    "        return torch.zeros(\n",
    "            1, batch_size, self.hidden_size\n",
    "            , device=device\n",
    "        )\n",
    "        "
   ]
  },
  {
   "cell_type": "code",
   "execution_count": 21,
   "metadata": {},
   "outputs": [],
   "source": [
    "input_size = max_len_slang + 1\n",
    "vocab_size = 122 + 2 #include eos and sos\n",
    "embed_dim = max_len_slang + 1\n",
    "hidden_size = 128\n",
    "output_size = max_len_slang + 1\n",
    "e = Encoder(batch_size, vocab_size, hidden_size)\n",
    "d = AttnDecoder(batch_size, hidden_size, vocab_size)\n",
    "criterion = nn.CrossEntropyLoss(ignore_index=PAD_TOKEN)\n",
    "eoptimizer = optim.Adam(e.parameters())\n",
    "doptimizer = optim.Adam(d.parameters())\n"
   ]
  },
  {
   "cell_type": "code",
   "execution_count": 22,
   "metadata": {},
   "outputs": [],
   "source": [
    "def train(input_tensor, target_tensor, e, d, eop, dop, criterion, max_length=61):\n",
    "    batch_size = input_tensor.shape[0]\n",
    "    input_length = max_length\n",
    "    output_length = max_length\n",
    "    \n",
    "    eh = e.init_hidden(batch_size)\n",
    "    eop.zero_grad()\n",
    "    dop.zero_grad()\n",
    "    \n",
    "    eoutputs = torch.zeros(max_length, batch_size, e.hidden_size)\n",
    "    loss = 0\n",
    "    \n",
    "    for ei in range(input_length):\n",
    "        eo, eh = e(\n",
    "            input_tensor[:, ei].view(batch_size, 1),\n",
    "            eh, \n",
    "            batch_size\n",
    "        )\n",
    "        log.info('eo shape: {}'.format(eo.shape))\n",
    "        eoutputs[ei] = eo\n",
    "    \n",
    "    eoutputs = eoutputs.view(batch_size, input_length, e.hidden_size)\n",
    "    # use only last context from encoder\n",
    "    dh = eh\n",
    "    dout = []\n",
    "    decoder_input = torch.tensor([[SOS_TOKEN] * batch_size], device=device)\n",
    "    for di in range(output_length):\n",
    "        do, dh, da = d(decoder_input, dh, eoutputs, batch_size)\n",
    "        topv, topi = do.topk(1)\n",
    "        decoder_input = topi.squeeze().detach()\n",
    "        dout.append(decoder_input)\n",
    "#         log.info('predicted: {}, char: {}'.format(decoder_input, chr(decoder_input)))\n",
    "        loss += criterion(do, target_tensor[:, di])\n",
    "    loss.backward()\n",
    "    eop.step()\n",
    "    dop.step()\n",
    "\n",
    "    return loss.item() / max_length\n",
    "        \n",
    "    "
   ]
  },
  {
   "cell_type": "code",
   "execution_count": 23,
   "metadata": {},
   "outputs": [],
   "source": [
    "logger.setLevel(log.ERROR)"
   ]
  },
  {
   "cell_type": "code",
   "execution_count": 25,
   "metadata": {},
   "outputs": [
    {
     "name": "stderr",
     "output_type": "stream",
     "text": [
      "\n",
      "  0%|          | 0/10 [00:00<?, ?it/s]\u001b[A\n",
      "\n",
      "\n",
      "\n",
      "100%|██████████| 10/10 [01:32<00:00,  9.34s/it]\n"
     ]
    }
   ],
   "source": [
    "epochs = 10\n",
    "losses = []\n",
    "epoch_avg_losses = []\n",
    "\n",
    "print_every = 1000\n",
    "for ep in tqdm(range(epochs)):\n",
    "    epoch_losses = []\n",
    "    epoch_loss = 0\n",
    "    \n",
    "    for data in dataloaders['train']: \n",
    "        input_tensor, output_tensor = data['slang'], data['formal']\n",
    "        log.info('input_tensor: {}'.format(input_tensor.shape))\n",
    "        avg_loss = train(input_tensor, output_tensor, e, d, eoptimizer, doptimizer, criterion)\n",
    "        losses.append(avg_loss)\n",
    "        epoch_losses.append(avg_loss)\n",
    "    \n",
    "    epoch_loss = np.average(epoch_losses)\n",
    "    epoch_avg_losses.append(epoch_loss)\n",
    "        \n",
    "        \n",
    "    "
   ]
  },
  {
   "cell_type": "code",
   "execution_count": 26,
   "metadata": {},
   "outputs": [],
   "source": [
    "def evaluate_sentence(e, d, sentence, max_length=61, device=device):\n",
    "    input_tensor = to_torch(pd.Series([encoded_from_sentence(sentence, max_length)]))[0]\n",
    "    return evaluate(e, d, input_tensor, max_length=max_length, device=device)\n",
    "\n",
    "def evaluate(e, d, input_tensor, max_length=61, device=device):\n",
    "    with torch.no_grad():\n",
    "        \n",
    "        batch_size = 1\n",
    "        eh = e.init_hidden(batch_size)\n",
    "        input_length = input_tensor.size(0)\n",
    "        output_length = input_tensor.size(0)\n",
    "\n",
    "        eoutputs = torch.zeros(max_length, batch_size, e.hidden_size)\n",
    "        loss = 0\n",
    "\n",
    "        for ei in range(input_length):\n",
    "            eo, eh = e(input_tensor[ei], eh, batch_size)\n",
    "            eoutputs[ei] = eo[0,0]\n",
    "\n",
    "        # use only last context from encoder\n",
    "        dh = eh\n",
    "        dout = []\n",
    "        dattentions = torch.zeros(max_length, max_length)\n",
    "        decoder_input = torch.tensor([[SOS_TOKEN]], device=device)\n",
    "        \n",
    "        eoutputs = eoutputs.view(batch_size, input_length, e.hidden_size)\n",
    "        for di in range(output_length):\n",
    "            do, dh, da = d(decoder_input, dh, eoutputs, batch_size)\n",
    "            topv, topi = do.topk(1)\n",
    "                \n",
    "            decoder_input = topi.squeeze().detach()\n",
    "            log.info('[EVAL] predicted char: {}, {}'.format(decoder_input, chr(decoder_input)))\n",
    "            dattentions[di] = da.data\n",
    "            dout.append(decoder_input)\n",
    "            \n",
    "            \n",
    "\n",
    "        return decoded_to_sentence(dout)\n",
    "\n"
   ]
  },
  {
   "cell_type": "code",
   "execution_count": 27,
   "metadata": {},
   "outputs": [],
   "source": [
    "import matplotlib.pyplot as plt"
   ]
  },
  {
   "cell_type": "code",
   "execution_count": 28,
   "metadata": {},
   "outputs": [
    {
     "data": {
      "image/png": "[encoded data removed]",
      "text/plain": [
       "<Figure size 864x504 with 1 Axes>"
      ]
     },
     "metadata": {
      "needs_background": "light"
     },
     "output_type": "display_data"
    }
   ],
   "source": [
    "f, ax = plt.subplots(figsize=(12, 7))\n",
    "plt.plot(list(np.arange(len(epoch_avg_losses))), epoch_avg_losses)\n",
    "plt.title('Epoch Avg Loss')\n",
    "plt.xlabel('epoch')\n",
    "plt.ylabel('loss')\n",
    "plt.show()"
   ]
  },
  {
   "cell_type": "code",
   "execution_count": 29,
   "metadata": {},
   "outputs": [
    {
     "name": "stdout",
     "output_type": "stream",
     "text": [
      "blum\n",
      "belum\n"
     ]
    }
   ],
   "source": [
    "i = \n",
    "print(decoded_to_sentence(data['slang'][0].numpy()))\n",
    "print(decoded_to_sentence(data['formal'][0].numpy()))"
   ]
  },
  {
   "cell_type": "code",
   "execution_count": 216,
   "metadata": {},
   "outputs": [
    {
     "data": {
      "text/html": [
       "<div>\n",
       "<style scoped>\n",
       "    .dataframe tbody tr th:only-of-type {\n",
       "        vertical-align: middle;\n",
       "    }\n",
       "\n",
       "    .dataframe tbody tr th {\n",
       "        vertical-align: top;\n",
       "    }\n",
       "\n",
       "    .dataframe thead th {\n",
       "        text-align: right;\n",
       "    }\n",
       "</style>\n",
       "<table border=\"1\" class=\"dataframe\">\n",
       "  <thead>\n",
       "    <tr style=\"text-align: right;\">\n",
       "      <th></th>\n",
       "      <th>slang</th>\n",
       "      <th>formal</th>\n",
       "      <th>In-dictionary</th>\n",
       "      <th>context</th>\n",
       "      <th>category1</th>\n",
       "      <th>category2</th>\n",
       "      <th>category3</th>\n",
       "    </tr>\n",
       "  </thead>\n",
       "  <tbody>\n",
       "    <tr>\n",
       "      <th>6073</th>\n",
       "      <td>kaa</td>\n",
       "      <td>kak</td>\n",
       "      <td>1</td>\n",
       "      <td>HBD kaa aku sayanggg kaa achaaa ????????</td>\n",
       "      <td>zeroisasi</td>\n",
       "      <td>elongasi</td>\n",
       "      <td>0</td>\n",
       "    </tr>\n",
       "    <tr>\n",
       "      <th>2506</th>\n",
       "      <td>sdh</td>\n",
       "      <td>sudah</td>\n",
       "      <td>1</td>\n",
       "      <td>Jgn percya kepada jasa hack facebook itu...moh...</td>\n",
       "      <td>abreviasi</td>\n",
       "      <td>0</td>\n",
       "      <td>0</td>\n",
       "    </tr>\n",
       "    <tr>\n",
       "      <th>10444</th>\n",
       "      <td>yg</td>\n",
       "      <td>yang</td>\n",
       "      <td>1</td>\n",
       "      <td>yukk cek ig kita brayy, ada wristband kerennn....</td>\n",
       "      <td>abreviasi</td>\n",
       "      <td>0</td>\n",
       "      <td>0</td>\n",
       "    </tr>\n",
       "    <tr>\n",
       "      <th>5693</th>\n",
       "      <td>msih</td>\n",
       "      <td>masih</td>\n",
       "      <td>1</td>\n",
       "      <td>@gede.sudarma ckckck.. produk jaman dodol itu ...</td>\n",
       "      <td>abreviasi</td>\n",
       "      <td>0</td>\n",
       "      <td>0</td>\n",
       "    </tr>\n",
       "    <tr>\n",
       "      <th>818</th>\n",
       "      <td>rinduuuuuuuuuu</td>\n",
       "      <td>rindu</td>\n",
       "      <td>1</td>\n",
       "      <td>Rinduuuuuuuuuu @prillylatuconsina96  @aliandooo</td>\n",
       "      <td>elongasi</td>\n",
       "      <td>0</td>\n",
       "      <td>0</td>\n",
       "    </tr>\n",
       "    <tr>\n",
       "      <th>11818</th>\n",
       "      <td>bgt</td>\n",
       "      <td>banget</td>\n",
       "      <td>1</td>\n",
       "      <td>Kelas bgt nih dat suara nya @bsahetapy ???????</td>\n",
       "      <td>abreviasi</td>\n",
       "      <td>0</td>\n",
       "      <td>0</td>\n",
       "    </tr>\n",
       "    <tr>\n",
       "      <th>10016</th>\n",
       "      <td>jd</td>\n",
       "      <td>jadi</td>\n",
       "      <td>1</td>\n",
       "      <td>Kita cuma jualan kontak agen produsen dan supp...</td>\n",
       "      <td>abreviasi</td>\n",
       "      <td>0</td>\n",
       "      <td>0</td>\n",
       "    </tr>\n",
       "    <tr>\n",
       "      <th>5280</th>\n",
       "      <td>srng</td>\n",
       "      <td>sering</td>\n",
       "      <td>1</td>\n",
       "      <td>Hati.a blm di jilbab mk.a gt,mlt.a nyerocooooo...</td>\n",
       "      <td>abreviasi</td>\n",
       "      <td>0</td>\n",
       "      <td>0</td>\n",
       "    </tr>\n",
       "    <tr>\n",
       "      <th>14566</th>\n",
       "      <td>stuju</td>\n",
       "      <td>setuju</td>\n",
       "      <td>1</td>\n",
       "      <td>G stuju ah</td>\n",
       "      <td>abreviasi</td>\n",
       "      <td>0</td>\n",
       "      <td>0</td>\n",
       "    </tr>\n",
       "    <tr>\n",
       "      <th>10423</th>\n",
       "      <td>yah</td>\n",
       "      <td>ya</td>\n",
       "      <td>1</td>\n",
       "      <td>Bisaan amat yah itu yang nge make up ny!!</td>\n",
       "      <td>anaptiksis</td>\n",
       "      <td>0</td>\n",
       "      <td>0</td>\n",
       "    </tr>\n",
       "  </tbody>\n",
       "</table>\n",
       "</div>"
      ],
      "text/plain": [
       "                slang  formal  In-dictionary  \\\n",
       "6073              kaa     kak              1   \n",
       "2506              sdh   sudah              1   \n",
       "10444              yg    yang              1   \n",
       "5693             msih   masih              1   \n",
       "818    rinduuuuuuuuuu   rindu              1   \n",
       "11818             bgt  banget              1   \n",
       "10016              jd    jadi              1   \n",
       "5280             srng  sering              1   \n",
       "14566           stuju  setuju              1   \n",
       "10423             yah      ya              1   \n",
       "\n",
       "                                                 context   category1  \\\n",
       "6073            HBD kaa aku sayanggg kaa achaaa ????????   zeroisasi   \n",
       "2506   Jgn percya kepada jasa hack facebook itu...moh...   abreviasi   \n",
       "10444  yukk cek ig kita brayy, ada wristband kerennn....   abreviasi   \n",
       "5693   @gede.sudarma ckckck.. produk jaman dodol itu ...   abreviasi   \n",
       "818      Rinduuuuuuuuuu @prillylatuconsina96  @aliandooo    elongasi   \n",
       "11818     Kelas bgt nih dat suara nya @bsahetapy ???????   abreviasi   \n",
       "10016  Kita cuma jualan kontak agen produsen dan supp...   abreviasi   \n",
       "5280   Hati.a blm di jilbab mk.a gt,mlt.a nyerocooooo...   abreviasi   \n",
       "14566                                         G stuju ah   abreviasi   \n",
       "10423          Bisaan amat yah itu yang nge make up ny!!  anaptiksis   \n",
       "\n",
       "      category2 category3  \n",
       "6073   elongasi         0  \n",
       "2506          0         0  \n",
       "10444         0         0  \n",
       "5693          0         0  \n",
       "818           0         0  \n",
       "11818         0         0  \n",
       "10016         0         0  \n",
       "5280          0         0  \n",
       "14566         0         0  \n",
       "10423         0         0  "
      ]
     },
     "execution_count": 216,
     "metadata": {},
     "output_type": "execute_result"
    }
   ],
   "source": [
    "df.iloc[X_train.iloc[:10].index]"
   ]
  },
  {
   "cell_type": "code",
   "execution_count": 221,
   "metadata": {},
   "outputs": [
    {
     "data": {
      "text/plain": [
       "'semang'"
      ]
     },
     "execution_count": 221,
     "metadata": {},
     "output_type": "execute_result"
    }
   ],
   "source": [
    "evaluate_sentence(e, d, 'srng')"
   ]
  },
  {
   "cell_type": "code",
   "execution_count": 377,
   "metadata": {},
   "outputs": [
    {
     "name": "stdout",
     "output_type": "stream",
     "text": [
      "sm\n",
      "sama\u0001\u0001\u0001\u0001\u0001\u0001\u0001\u0001\u0001\u0001\u0001\u0001\u0001\u0001\u0001\u0001\u0001\u0001\u0001\u0001\u0001\u0001\u0001\u0001\u0001\u0001\u0001\u0001\u0001\u0001\u0001\u0001\u0001\u0001\u0001\u0001\u0001\u0001\u0001\u0001\u0001\u0001\u0001\u0001\u0001\u0001\u0001\u0001\u0001\u0001\u0001\u0001\n"
     ]
    }
   ],
   "source": [
    "i = 34\n",
    "sentence = df.iloc[X_train.iloc[:50].index[i]].slang\n",
    "target = df.iloc[y_train.iloc[:50].index[i]].formal\n",
    "print(sentence)\n",
    "input_tensor = to_torch(pd.Series([encoded_from_sentence(sentence, max_len_slang)]))[0]\n",
    "output_tensor = to_torch(pd.Series([encoded_from_sentence(target, max_len_slang)]))[0]\n",
    "train(input_tensor, output_tensor, e, d, eoptimizer, doptimizer, criterion)\n",
    "print(evaluate(e, d, input_tensor))"
   ]
  },
  {
   "cell_type": "code",
   "execution_count": 222,
   "metadata": {},
   "outputs": [
    {
     "name": "stderr",
     "output_type": "stream",
     "text": [
      "/home/arie/miniconda2/envs/data_analysis_351/lib/python3.5/site-packages/ipykernel_launcher.py:3: SettingWithCopyWarning: \n",
      "A value is trying to be set on a copy of a slice from a DataFrame.\n",
      "Try using .loc[row_indexer,col_indexer] = value instead\n",
      "\n",
      "See the caveats in the documentation: http://pandas.pydata.org/pandas-docs/stable/indexing.html#indexing-view-versus-copy\n",
      "  This is separate from the ipykernel package so we can avoid doing imports until\n"
     ]
    }
   ],
   "source": [
    "df_wt_prediction = df.iloc[X_train.iloc[:50].index]\n",
    "df_wt_prediction['predicted_formal'] = df_wt_prediction['slang'].apply(\n",
    "    lambda slang: evaluate_sentence(e, d, slang).replace(chr(1), '')\n",
    ")"
   ]
  },
  {
   "cell_type": "code",
   "execution_count": 223,
   "metadata": {},
   "outputs": [
    {
     "name": "stdout",
     "output_type": "stream",
     "text": [
      "accuracy: 0.28\n"
     ]
    }
   ],
   "source": [
    "from sklearn.metrics import accuracy_score\n",
    "\n",
    "print('accuracy: {}'.format(\n",
    "    accuracy_score(df_wt_prediction['formal'],  \n",
    "                   df_wt_prediction['predicted_formal']))\n",
    ")\n"
   ]
  },
  {
   "cell_type": "code",
   "execution_count": 224,
   "metadata": {},
   "outputs": [
    {
     "name": "stdout",
     "output_type": "stream",
     "text": [
      "accuracy: 0.29\n"
     ]
    },
    {
     "name": "stderr",
     "output_type": "stream",
     "text": [
      "/home/arie/miniconda2/envs/data_analysis_351/lib/python3.5/site-packages/ipykernel_launcher.py:3: SettingWithCopyWarning: \n",
      "A value is trying to be set on a copy of a slice from a DataFrame.\n",
      "Try using .loc[row_indexer,col_indexer] = value instead\n",
      "\n",
      "See the caveats in the documentation: http://pandas.pydata.org/pandas-docs/stable/indexing.html#indexing-view-versus-copy\n",
      "  This is separate from the ipykernel package so we can avoid doing imports until\n"
     ]
    }
   ],
   "source": [
    "df_wt_prediction = df.iloc[X_train.iloc[:100].index]\n",
    "df_wt_prediction['predicted_formal'] = df_wt_prediction['slang'].apply(\n",
    "    lambda slang: evaluate_sentence(e, d, slang).replace(chr(1), '')\n",
    ")\n",
    "print('accuracy: {}'.format(accuracy_score(df_wt_prediction['formal'],  df_wt_prediction['predicted_formal'])))"
   ]
  },
  {
   "cell_type": "code",
   "execution_count": 225,
   "metadata": {},
   "outputs": [],
   "source": [
    "df_wt_correct_prediction = df_wt_prediction[\n",
    "    df_wt_prediction.formal == df_wt_prediction.predicted_formal\n",
    "]"
   ]
  },
  {
   "cell_type": "code",
   "execution_count": 226,
   "metadata": {},
   "outputs": [],
   "source": [
    "import altair as alt"
   ]
  },
  {
   "cell_type": "code",
   "execution_count": 227,
   "metadata": {},
   "outputs": [
    {
     "data": {
      "application/vnd.vegalite.v2+json": {
       "$schema": "https://vega.github.io/schema/vega-lite/v2.6.0.json",
       "config": {
        "view": {
         "height": 300,
         "width": 400
        }
       },
       "data": {
        "name": "data-63a12db11e35c749a442ef4dc8923ad2"
       },
       "datasets": {
        "data-63a12db11e35c749a442ef4dc8923ad2": [
         {
          "category1": "abreviasi",
          "slang": 51
         },
         {
          "category1": "afiksasi",
          "slang": 10
         },
         {
          "category1": "anaptiksis",
          "slang": 4
         },
         {
          "category1": "elongasi",
          "slang": 10
         },
         {
          "category1": "homofon",
          "slang": 1
         },
         {
          "category1": "modifikasi vokal",
          "slang": 1
         },
         {
          "category1": "monoftongisasi",
          "slang": 1
         },
         {
          "category1": "pungtuasi",
          "slang": 1
         },
         {
          "category1": "reduplikasi",
          "slang": 4
         },
         {
          "category1": "salah ketik",
          "slang": 2
         },
         {
          "category1": "subtitusi",
          "slang": 1
         },
         {
          "category1": "zeroisasi",
          "slang": 14
         }
        ]
       },
       "encoding": {
        "x": {
         "field": "slang",
         "type": "quantitative"
        },
        "y": {
         "field": "category1",
         "sort": {
          "field": "slang",
          "op": "sum",
          "order": "descending"
         },
         "type": "nominal"
        }
       },
       "mark": "bar"
      },
      "image/png": "[encoded data removed]",
      "text/plain": [
       "<VegaLite 2 object>\n",
       "\n",
       "If you see this message, it means the renderer has not been properly enabled\n",
       "for the frontend that you are using. For more information, see\n",
       "https://altair-viz.github.io/user_guide/troubleshooting.html\n"
      ]
     },
     "execution_count": 227,
     "metadata": {},
     "output_type": "execute_result"
    }
   ],
   "source": [
    "agg_all = df_wt_prediction.groupby(\n",
    "    'category1'\n",
    ").agg('count')['slang'].reset_index()\n",
    "alt.Chart(agg_all).mark_bar().encode(\n",
    "    x='slang',\n",
    "    y=alt.Y(\n",
    "        'category1',\n",
    "        sort=alt.EncodingSortField(\n",
    "            field='slang',\n",
    "            op='sum',\n",
    "            order='descending'\n",
    "        )\n",
    "    )\n",
    ")"
   ]
  },
  {
   "cell_type": "code",
   "execution_count": 231,
   "metadata": {},
   "outputs": [
    {
     "data": {
      "text/html": [
       "<div>\n",
       "<style scoped>\n",
       "    .dataframe tbody tr th:only-of-type {\n",
       "        vertical-align: middle;\n",
       "    }\n",
       "\n",
       "    .dataframe tbody tr th {\n",
       "        vertical-align: top;\n",
       "    }\n",
       "\n",
       "    .dataframe thead th {\n",
       "        text-align: right;\n",
       "    }\n",
       "</style>\n",
       "<table border=\"1\" class=\"dataframe\">\n",
       "  <thead>\n",
       "    <tr style=\"text-align: right;\">\n",
       "      <th></th>\n",
       "      <th>slang</th>\n",
       "      <th>formal</th>\n",
       "      <th>predicted_formal</th>\n",
       "    </tr>\n",
       "  </thead>\n",
       "  <tbody>\n",
       "    <tr>\n",
       "      <th>3954</th>\n",
       "      <td>sj</td>\n",
       "      <td>saja</td>\n",
       "      <td>saja</td>\n",
       "    </tr>\n",
       "    <tr>\n",
       "      <th>1706</th>\n",
       "      <td>sndiri</td>\n",
       "      <td>sendiri</td>\n",
       "      <td>senari</td>\n",
       "    </tr>\n",
       "    <tr>\n",
       "      <th>13445</th>\n",
       "      <td>engga</td>\n",
       "      <td>enggak</td>\n",
       "      <td>enggak</td>\n",
       "    </tr>\n",
       "    <tr>\n",
       "      <th>5448</th>\n",
       "      <td>bbrpa</td>\n",
       "      <td>beberapa</td>\n",
       "      <td>begaaaa</td>\n",
       "    </tr>\n",
       "    <tr>\n",
       "      <th>4937</th>\n",
       "      <td>dh</td>\n",
       "      <td>deh</td>\n",
       "      <td>dah</td>\n",
       "    </tr>\n",
       "    <tr>\n",
       "      <th>5120</th>\n",
       "      <td>bs</td>\n",
       "      <td>bisa</td>\n",
       "      <td>bisi</td>\n",
       "    </tr>\n",
       "    <tr>\n",
       "      <th>6619</th>\n",
       "      <td>bgt</td>\n",
       "      <td>banget</td>\n",
       "      <td>banget</td>\n",
       "    </tr>\n",
       "    <tr>\n",
       "      <th>4339</th>\n",
       "      <td>yg</td>\n",
       "      <td>yang</td>\n",
       "      <td>yang</td>\n",
       "    </tr>\n",
       "    <tr>\n",
       "      <th>1666</th>\n",
       "      <td>yg</td>\n",
       "      <td>yang</td>\n",
       "      <td>yang</td>\n",
       "    </tr>\n",
       "    <tr>\n",
       "      <th>8900</th>\n",
       "      <td>gara2</td>\n",
       "      <td>gara-gara</td>\n",
       "      <td>engaraa</td>\n",
       "    </tr>\n",
       "  </tbody>\n",
       "</table>\n",
       "</div>"
      ],
      "text/plain": [
       "        slang     formal predicted_formal\n",
       "3954       sj       saja             saja\n",
       "1706   sndiri    sendiri           senari\n",
       "13445   engga     enggak           enggak\n",
       "5448    bbrpa   beberapa          begaaaa\n",
       "4937       dh        deh              dah\n",
       "5120       bs       bisa             bisi\n",
       "6619      bgt     banget           banget\n",
       "4339       yg       yang             yang\n",
       "1666       yg       yang             yang\n",
       "8900    gara2  gara-gara          engaraa"
      ]
     },
     "execution_count": 231,
     "metadata": {},
     "output_type": "execute_result"
    }
   ],
   "source": [
    "df_wt_prediction.iloc[50:60][['slang', 'formal', 'predicted_formal']]"
   ]
  },
  {
   "cell_type": "code",
   "execution_count": 228,
   "metadata": {},
   "outputs": [
    {
     "data": {
      "application/vnd.vegalite.v2+json": {
       "$schema": "https://vega.github.io/schema/vega-lite/v2.6.0.json",
       "config": {
        "view": {
         "height": 300,
         "width": 400
        }
       },
       "data": {
        "name": "data-b635c1d1d82442cbead343ad3d8efef4"
       },
       "datasets": {
        "data-b635c1d1d82442cbead343ad3d8efef4": [
         {
          "category1": "abreviasi",
          "slang": 19
         },
         {
          "category1": "anaptiksis",
          "slang": 1
         },
         {
          "category1": "elongasi",
          "slang": 1
         },
         {
          "category1": "zeroisasi",
          "slang": 8
         }
        ]
       },
       "encoding": {
        "x": {
         "field": "slang",
         "type": "quantitative"
        },
        "y": {
         "field": "category1",
         "sort": {
          "field": "slang",
          "op": "sum",
          "order": "descending"
         },
         "type": "nominal"
        }
       },
       "mark": "bar"
      },
      "image/png": "[encoded data removed]",
      "text/plain": [
       "<VegaLite 2 object>\n",
       "\n",
       "If you see this message, it means the renderer has not been properly enabled\n",
       "for the frontend that you are using. For more information, see\n",
       "https://altair-viz.github.io/user_guide/troubleshooting.html\n"
      ]
     },
     "execution_count": 228,
     "metadata": {},
     "output_type": "execute_result"
    }
   ],
   "source": [
    "agg = df_wt_correct_prediction.groupby(\n",
    "    'category1'\n",
    ").agg('count')['slang']\n",
    "agg = agg.reset_index()\n",
    "alt.Chart(agg).mark_bar().encode(\n",
    "    x='slang',\n",
    "    y=alt.Y(\n",
    "        'category1',\n",
    "        sort=alt.EncodingSortField(\n",
    "            field='slang',\n",
    "            op='sum',\n",
    "            order='descending'\n",
    "        )\n",
    "    )\n",
    ")"
   ]
  },
  {
   "cell_type": "code",
   "execution_count": 458,
   "metadata": {},
   "outputs": [],
   "source": [
    "all_vs_correct_prediction = pd.merge(\n",
    "    agg_all, agg.rename(\n",
    "        index=str, columns={\n",
    "        'category1': 'correct_pred_category1', \n",
    "        'slang': 'correct_pred_slang'\n",
    "    })\n",
    ", left_on='category1', right_on='correct_pred_category1', how='left').fillna(0)\n",
    "all_vs_correct_prediction['correct_pct'] = all_vs_correct_prediction[\n",
    "    'correct_pred_slang'\n",
    "] / all_vs_correct_prediction['slang']"
   ]
  },
  {
   "cell_type": "code",
   "execution_count": 467,
   "metadata": {},
   "outputs": [
    {
     "data": {
      "application/vnd.vegalite.v2+json": {
       "$schema": "https://vega.github.io/schema/vega-lite/v2.6.0.json",
       "config": {
        "view": {
         "height": 300,
         "width": 400
        }
       },
       "data": {
        "name": "data-4b9f79250551a96912dc814df9ff8c2c"
       },
       "datasets": {
        "data-4b9f79250551a96912dc814df9ff8c2c": [
         {
          "category1": "abreviasi",
          "correct_pct": 0.7254901960784313,
          "correct_pred_category1": "abreviasi",
          "correct_pred_slang": 37,
          "slang": 51
         },
         {
          "category1": "afiksasi",
          "correct_pct": 0.6,
          "correct_pred_category1": "afiksasi",
          "correct_pred_slang": 6,
          "slang": 10
         },
         {
          "category1": "anaptiksis",
          "correct_pct": 0.5,
          "correct_pred_category1": "anaptiksis",
          "correct_pred_slang": 2,
          "slang": 4
         },
         {
          "category1": "elongasi",
          "correct_pct": 0.5,
          "correct_pred_category1": "elongasi",
          "correct_pred_slang": 5,
          "slang": 10
         },
         {
          "category1": "homofon",
          "correct_pct": 0,
          "correct_pred_category1": 0,
          "correct_pred_slang": 0,
          "slang": 1
         },
         {
          "category1": "modifikasi vokal",
          "correct_pct": 0,
          "correct_pred_category1": 0,
          "correct_pred_slang": 0,
          "slang": 1
         },
         {
          "category1": "monoftongisasi",
          "correct_pct": 1,
          "correct_pred_category1": "monoftongisasi",
          "correct_pred_slang": 1,
          "slang": 1
         },
         {
          "category1": "pungtuasi",
          "correct_pct": 0,
          "correct_pred_category1": 0,
          "correct_pred_slang": 0,
          "slang": 1
         },
         {
          "category1": "reduplikasi",
          "correct_pct": 0,
          "correct_pred_category1": 0,
          "correct_pred_slang": 0,
          "slang": 4
         },
         {
          "category1": "salah ketik",
          "correct_pct": 0,
          "correct_pred_category1": 0,
          "correct_pred_slang": 0,
          "slang": 2
         },
         {
          "category1": "subtitusi",
          "correct_pct": 0,
          "correct_pred_category1": 0,
          "correct_pred_slang": 0,
          "slang": 1
         },
         {
          "category1": "zeroisasi",
          "correct_pct": 0.5714285714285714,
          "correct_pred_category1": "zeroisasi",
          "correct_pred_slang": 8,
          "slang": 14
         }
        ]
       },
       "encoding": {
        "x": {
         "field": "correct_pct",
         "type": "quantitative"
        },
        "y": {
         "field": "category1",
         "sort": {
          "field": "correct_pct",
          "op": "sum",
          "order": "descending"
         },
         "type": "nominal"
        }
       },
       "mark": "bar"
      },
      "image/png": "[encoded data removed]",
      "text/plain": [
       "<VegaLite 2 object>\n",
       "\n",
       "If you see this message, it means the renderer has not been properly enabled\n",
       "for the frontend that you are using. For more information, see\n",
       "https://altair-viz.github.io/user_guide/troubleshooting.html\n"
      ]
     },
     "execution_count": 467,
     "metadata": {},
     "output_type": "execute_result"
    }
   ],
   "source": [
    "alt.Chart(all_vs_correct_prediction).mark_bar().encode(\n",
    "    x='correct_pct:Q',\n",
    "    y=alt.Y(\n",
    "        'category1:N'\n",
    "        , sort=alt.EncodingSortField(\n",
    "            field='correct_pct',\n",
    "            op='sum',\n",
    "            order='descending'\n",
    "        )\n",
    "    )\n",
    ")"
   ]
  },
  {
   "cell_type": "code",
   "execution_count": 472,
   "metadata": {},
   "outputs": [
    {
     "data": {
      "text/plain": [
       "(59, 8)"
      ]
     },
     "execution_count": 472,
     "metadata": {},
     "output_type": "execute_result"
    }
   ],
   "source": [
    "df_wt_correct_prediction.shape"
   ]
  }
 ],
 "metadata": {
  "kernelspec": {
   "display_name": "Python 3",
   "language": "python",
   "name": "python3"
  },
  "language_info": {
   "codemirror_mode": {
    "name": "ipython",
    "version": 3
   },
   "file_extension": ".py",
   "mimetype": "text/x-python",
   "name": "python",
   "nbconvert_exporter": "python",
   "pygments_lexer": "ipython3",
   "version": "3.5.4"
  }
 },
 "nbformat": 4,
 "nbformat_minor": 2
}

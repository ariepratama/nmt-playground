{
 "cells": [
  {
   "cell_type": "code",
   "execution_count": 14,
   "metadata": {},
   "outputs": [],
   "source": [
    "import pandas as pd\n",
    "import numpy as np\n",
    "from sklearn.model_selection import train_test_split\n",
    "from tqdm import tqdm\n",
    "\n",
    "import torch.nn.functional as F\n",
    "import torch\n",
    "from torch import nn, optim"
   ]
  },
  {
   "cell_type": "code",
   "execution_count": 2,
   "metadata": {},
   "outputs": [],
   "source": [
    "device = torch.device(\n",
    "    'cuda' if torch.cuda.is_available() else 'cpu'\n",
    ")"
   ]
  },
  {
   "cell_type": "code",
   "execution_count": 3,
   "metadata": {},
   "outputs": [],
   "source": [
    "df = pd.read_csv('colloquial-indonesian-lexicon.csv')"
   ]
  },
  {
   "cell_type": "code",
   "execution_count": 4,
   "metadata": {},
   "outputs": [],
   "source": [
    "X = df['slang']\n",
    "y = df['formal']\n",
    "SOS_TOKEN = 0\n",
    "EOS_TOKEN = 1\n",
    "PAD_TOKEN = ord('*')"
   ]
  },
  {
   "cell_type": "code",
   "execution_count": 18,
   "metadata": {},
   "outputs": [],
   "source": [
    "def apply_padding(_str, n_max_char, zero_char='*'):\n",
    "    len_str = len(_str)\n",
    "    if len_str >= n_max_char:\n",
    "        return _str[:n_max_char]\n",
    "  \n",
    "    else:\n",
    "        return _str + ''.join([zero_char for t in range(n_max_char - len_str)])\n",
    "    \n",
    "def replace_punctuations(x, replace_with='*'):\n",
    "    return [str(e) if str(e).isalpha() else replace_with for e in x]\n",
    "\n",
    "def lord(x):\n",
    "  \"\"\"make string into integer\"\"\"\n",
    "  return [SOS_TOKEN] + [ord(x1) for x1 in x] + [EOS_TOKEN]\n",
    "\n",
    "def tchr(x):\n",
    "    return ''.join([chr(y) for y in x[1:-2] if y != PAD_TOKEN])"
   ]
  },
  {
   "cell_type": "code",
   "execution_count": 19,
   "metadata": {},
   "outputs": [],
   "source": [
    "def encoded_from_sentence(text):\n",
    "    return lord(replace_punctuations(apply_padding(text, max_len_slang)))\n",
    "\n",
    "def decoded_to_sentence(encoded):\n",
    "    return tchr(encoded)"
   ]
  },
  {
   "cell_type": "code",
   "execution_count": 6,
   "metadata": {},
   "outputs": [
    {
     "name": "stdout",
     "output_type": "stream",
     "text": [
      "max_len_slang: 59, max_len_formal 22\n"
     ]
    }
   ],
   "source": [
    "max_len_slang = X.apply(len).max()\n",
    "max_len_formal = y.apply(len).max()\n",
    "print('max_len_slang: {}, max_len_formal {}'.format(max_len_slang, max_len_formal))"
   ]
  },
  {
   "cell_type": "code",
   "execution_count": 7,
   "metadata": {},
   "outputs": [],
   "source": [
    "X = X.apply(apply_padding, args=(max_len_slang,)).apply(list).apply(np.array).apply(replace_punctuations).apply(lord)\n",
    "y = y.apply(apply_padding, args=(max_len_slang,)).apply(list).apply(np.array).apply(replace_punctuations).apply(lord)"
   ]
  },
  {
   "cell_type": "code",
   "execution_count": 8,
   "metadata": {},
   "outputs": [],
   "source": [
    "from sklearn.model_selection import train_test_split\n",
    "np.random.seed(0)\n",
    "X_train, X_test, y_train, y_test = train_test_split(X, y, test_size=0.3)\n",
    "X_test, X_val, y_test, y_val = train_test_split(X_test, y_test, test_size=0.3)"
   ]
  },
  {
   "cell_type": "code",
   "execution_count": 9,
   "metadata": {},
   "outputs": [],
   "source": [
    "def to_torch(x, device=device):\n",
    "    return torch.from_numpy(np.array(x.values.tolist())).to(device)"
   ]
  },
  {
   "cell_type": "code",
   "execution_count": 10,
   "metadata": {},
   "outputs": [],
   "source": [
    "class Encoder(nn.Module):\n",
    "    def __init__(self, vocab_size, hidden_size):\n",
    "        super(Encoder, self).__init__()\n",
    "        self.hidden_size = hidden_size\n",
    "        self.embedding = nn.Embedding(vocab_size, hidden_size, padding_idx=42)\n",
    "        self.gru = nn.GRU(hidden_size, hidden_size)\n",
    "        \n",
    "    def forward(self, input, hidden):\n",
    "        # make into 1x1 dimension\n",
    "        embedded = self.embedding(input).view(1, 1, -1)\n",
    "        \n",
    "        # gru or other RNN will output: output, hidden layer\n",
    "        output, hidden = self.gru(embedded, hidden)\n",
    "        return output, hidden\n",
    "    def init_hidden(self, device=device):\n",
    "        return torch.zeros(1, 1, self.hidden_size, device=device)"
   ]
  },
  {
   "cell_type": "code",
   "execution_count": 11,
   "metadata": {},
   "outputs": [],
   "source": [
    "class Decoder(nn.Module):\n",
    "    def __init__(self, hidden_size, vocab_size):\n",
    "        super(Decoder, self).__init__()\n",
    "        self.hidden_size = hidden_size\n",
    "        \n",
    "        self.embedding = nn.Embedding(vocab_size, hidden_size, padding_idx=42)\n",
    "        self.gru = nn.GRU(hidden_size, hidden_size)\n",
    "        self.out = nn.Linear(hidden_size, vocab_size)\n",
    "        self.softmax = nn.LogSoftmax(dim=1)\n",
    "        \n",
    "    def forward(self, input, hidden):\n",
    "        output = self.embedding(input).view(1, 1, -1)\n",
    "        output = F.relu(output)\n",
    "        output, hidden = self.gru(output, hidden)\n",
    "        output = self.softmax(self.out(output[0]))\n",
    "        return output, hidden\n",
    "    def init_hidden(self, device=device):\n",
    "        return torch.zeros(1,1, self.hidden_size, device=device)\n",
    "        "
   ]
  },
  {
   "cell_type": "code",
   "execution_count": 65,
   "metadata": {},
   "outputs": [],
   "source": [
    "input_size = max_len_slang + 1\n",
    "vocab_size = 122 + 2 #include eos and sos\n",
    "embed_dim = max_len_slang + 1\n",
    "hidden_size = 256\n",
    "output_size = max_len_slang + 1\n",
    "e = Encoder(vocab_size, hidden_size)\n",
    "d = Decoder(hidden_size, vocab_size)\n",
    "criterion = nn.CrossEntropyLoss(ignore_index=PAD_TOKEN)\n",
    "eoptimizer = optim.Adam(e.parameters())\n",
    "doptimizer = optim.Adam(d.parameters())\n"
   ]
  },
  {
   "cell_type": "code",
   "execution_count": 66,
   "metadata": {},
   "outputs": [],
   "source": [
    "def train(input_tensor, target_tensor, e, d, eop, dop, criterion, max_length=61):\n",
    "    eh = e.init_hidden()\n",
    "    eop.zero_grad()\n",
    "    dop.zero_grad()\n",
    "    \n",
    "    input_length = input_tensor.size(0)\n",
    "    output_length = output_tensor.size(0)\n",
    "    \n",
    "    eoutputs = torch.zeros(max_length, e.hidden_size)\n",
    "    loss = 0\n",
    "    \n",
    "    for ei in range(input_length):\n",
    "\n",
    "        eo, eh = e(input_tensor[ei], eh)\n",
    "        eoutputs[ei] = eo[0,0]\n",
    "    \n",
    "    # use only last context from encoder\n",
    "    dh = eh\n",
    "    decoder_input = torch.tensor([[SOS_TOKEN]], device=device)\n",
    "    for di in range(1, output_length):\n",
    "        do, dh = d(decoder_input, dh)\n",
    "        topv, topi = do.topk(1)\n",
    "        decoder_input = topi.squeeze().detach()\n",
    "\n",
    "        loss += criterion(do, target_tensor[di].view(1))\n",
    "        if decoder_input.item() == EOS_TOKEN:\n",
    "            break\n",
    "    loss.backward()\n",
    "    eop.step()\n",
    "    dop.step()\n",
    "    \n",
    "    return loss.item() / max_length\n",
    "        \n",
    "    "
   ]
  },
  {
   "cell_type": "code",
   "execution_count": null,
   "metadata": {},
   "outputs": [],
   "source": [
    "df"
   ]
  },
  {
   "cell_type": "code",
   "execution_count": 67,
   "metadata": {},
   "outputs": [
    {
     "name": "stderr",
     "output_type": "stream",
     "text": [
      "100%|██████████| 50/50 [03:06<00:00,  3.33s/it]\n"
     ]
    }
   ],
   "source": [
    "epochs = 50\n",
    "losses = []\n",
    "epoch_avg_losses = []\n",
    "\n",
    "print_every = 1000\n",
    "for ep in tqdm(range(epochs)):\n",
    "    epoch_losses = []\n",
    "    epoch_loss = 0\n",
    "    for input_tensor, output_tensor in zip(to_torch(X_train.iloc[:50]), to_torch(y_train.iloc[:50])): \n",
    "        avg_loss = train(input_tensor, output_tensor, e, d, eoptimizer, doptimizer, criterion)\n",
    "        losses.append(avg_loss)\n",
    "        epoch_losses.append(avg_loss)\n",
    "    \n",
    "    epoch_loss = np.average(epoch_losses)\n",
    "    epoch_avg_losses.append(epoch_loss)\n",
    "        \n",
    "#         for ei in range(input_size):\n",
    "#             encoder_out, encoder_hidden = e()\n",
    "#         encoder_out, encoder_hidden = e(to_torch(input), ehidden)\n",
    "        \n",
    "    "
   ]
  },
  {
   "cell_type": "code",
   "execution_count": 73,
   "metadata": {},
   "outputs": [],
   "source": [
    "def evaluate(e, d, sentence, max_length=61, device=device):\n",
    "  with torch.no_grad():\n",
    "    input_tensor = to_torch(pd.Series([encoded_from_sentence(sentence)]))[0]\n",
    "    input_length = input_tensor.size()[0]\n",
    "    eh = e.init_hidden()\n",
    "    \n",
    "    eoutputs = torch.zeros(max_length, e.hidden_size, device=device)\n",
    "    \n",
    "    for ei in range(input_length):\n",
    "      eo, eh = e(input_tensor[ei],  eh)\n",
    "      eoutputs[ei] = eo[0,0]\n",
    "      \n",
    "    dinput = torch.tensor([[SOS_TOKEN]], device=device)\n",
    "    \n",
    "    doutputs = []\n",
    "    dh = eh\n",
    "    for di in range(max_length):\n",
    "      do, dh = d(dinput, dh)\n",
    "      topv, topi = do.topk(1)\n",
    "      \n",
    "      doutputs.append(topi.item())\n",
    "      if topi.item() == EOS_TOKEN:\n",
    "        break;\n",
    "        \n",
    "    return decoded_to_sentence(doutputs)"
   ]
  },
  {
   "cell_type": "code",
   "execution_count": 79,
   "metadata": {},
   "outputs": [
    {
     "name": "stdout",
     "output_type": "stream",
     "text": [
      "jd\n",
      "jadi\n",
      "ssaaaaaaaaaaaaaaaaaaaaaaaaaaaaaaaaaaaaaaaaaaaaaaaaaaaaaaaa\n",
      "58\n"
     ]
    }
   ],
   "source": [
    "i = 11\n",
    "slang = df.iloc[X_train.iloc[:50].index[i]].slang\n",
    "print(slang)\n",
    "print(df.iloc[X_train.iloc[:50].index[i]].formal)\n",
    "pred = evaluate(e,d,slang)\n",
    "print(pred)\n",
    "print(len(pred))\n",
    "# evaluate(e, d, 'baguuuuus')"
   ]
  },
  {
   "cell_type": "code",
   "execution_count": 75,
   "metadata": {},
   "outputs": [],
   "source": [
    "import matplotlib.pyplot as plt"
   ]
  },
  {
   "cell_type": "code",
   "execution_count": 76,
   "metadata": {},
   "outputs": [
    {
     "data": {
      "image/png": "[encoded data removed]",
      "text/plain": [
       "<Figure size 864x504 with 1 Axes>"
      ]
     },
     "metadata": {
      "needs_background": "light"
     },
     "output_type": "display_data"
    }
   ],
   "source": [
    "f, ax = plt.subplots(figsize=(12, 7))\n",
    "plt.plot(list(np.arange(len(losses))), losses)\n",
    "plt.show()\n"
   ]
  },
  {
   "cell_type": "code",
   "execution_count": 77,
   "metadata": {},
   "outputs": [
    {
     "data": {
      "image/png": "[encoded data removed]",
      "text/plain": [
       "<Figure size 864x504 with 1 Axes>"
      ]
     },
     "metadata": {
      "needs_background": "light"
     },
     "output_type": "display_data"
    }
   ],
   "source": [
    "f, ax = plt.subplots(figsize=(12, 7))\n",
    "plt.plot(list(np.arange(len(epoch_avg_losses))), epoch_avg_losses)\n",
    "plt.show()"
   ]
  },
  {
   "cell_type": "code",
   "execution_count": null,
   "metadata": {},
   "outputs": [],
   "source": []
  }
 ],
 "metadata": {
  "kernelspec": {
   "display_name": "Python 3",
   "language": "python",
   "name": "python3"
  },
  "language_info": {
   "codemirror_mode": {
    "name": "ipython",
    "version": 3
   },
   "file_extension": ".py",
   "mimetype": "text/x-python",
   "name": "python",
   "nbconvert_exporter": "python",
   "pygments_lexer": "ipython3",
   "version": "3.5.4"
  }
 },
 "nbformat": 4,
 "nbformat_minor": 2
}

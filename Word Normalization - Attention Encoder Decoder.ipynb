{
 "cells": [
  {
   "cell_type": "code",
   "execution_count": 355,
   "metadata": {},
   "outputs": [],
   "source": [
    "import pandas as pd\n",
    "import numpy as np\n",
    "from sklearn.model_selection import train_test_split\n",
    "from tqdm import tqdm\n",
    "\n",
    "import torch.nn.functional as F\n",
    "import torch\n",
    "from torch import nn, optim\n",
    "from lib.torch_util import *"
   ]
  },
  {
   "cell_type": "code",
   "execution_count": 350,
   "metadata": {},
   "outputs": [],
   "source": [
    "df = pd.read_csv('colloquial-indonesian-lexicon.csv')"
   ]
  },
  {
   "cell_type": "code",
   "execution_count": 351,
   "metadata": {},
   "outputs": [],
   "source": [
    "X = df['slang']\n",
    "y = df['formal']\n",
    "SOS_TOKEN = 0\n",
    "EOS_TOKEN = 1\n",
    "PAD_TOKEN = ord('*')"
   ]
  },
  {
   "cell_type": "code",
   "execution_count": 352,
   "metadata": {},
   "outputs": [
    {
     "name": "stdout",
     "output_type": "stream",
     "text": [
      "max_len_slang: 59, max_len_formal 22\n"
     ]
    }
   ],
   "source": [
    "max_len_slang = X.apply(len).max()\n",
    "max_len_formal = y.apply(len).max()\n",
    "print('max_len_slang: {}, max_len_formal {}'.format(max_len_slang, max_len_formal))"
   ]
  },
  {
   "cell_type": "code",
   "execution_count": 356,
   "metadata": {},
   "outputs": [],
   "source": [
    "X = to_list_of_int(X, max_len_slang)\n",
    "y = to_list_of_int(y, max_len_slang)"
   ]
  },
  {
   "cell_type": "code",
   "execution_count": 357,
   "metadata": {},
   "outputs": [],
   "source": [
    "X_train, X_test, X_val, y_train, y_test, y_val = split_train_test_val(\n",
    "    X, y\n",
    ")"
   ]
  },
  {
   "cell_type": "code",
   "execution_count": 358,
   "metadata": {},
   "outputs": [],
   "source": [
    "class Encoder(nn.Module):\n",
    "    def __init__(self, vocab_size, hidden_size):\n",
    "        super(Encoder, self).__init__()\n",
    "        self.hidden_size = hidden_size\n",
    "        self.embedding = nn.Embedding(vocab_size, hidden_size, padding_idx=42)\n",
    "        self.gru = nn.GRU(hidden_size, hidden_size)\n",
    "        \n",
    "    def forward(self, input, hidden):\n",
    "        # make into 1x1 dimension\n",
    "        embedded = self.embedding(input).view(1, 1, -1)\n",
    "        \n",
    "        # gru or other RNN will output: output, hidden layer\n",
    "        output, hidden = self.gru(embedded, hidden)\n",
    "        return output, hidden\n",
    "    def init_hidden(self, device=device):\n",
    "        return torch.zeros(1, 1, self.hidden_size, device=device)"
   ]
  },
  {
   "cell_type": "code",
   "execution_count": 359,
   "metadata": {},
   "outputs": [],
   "source": [
    "class AttnDecoder(nn.Module):\n",
    "    def __init__(self, hidden_size, vocab_size, dropout_p = 0.1, max_length=61):\n",
    "        super(AttnDecoder, self).__init__()\n",
    "        self.hidden_size = hidden_size\n",
    "        self.max_length = max_length\n",
    "        self.dropout_p = dropout_p\n",
    "        \n",
    "        self.embedding = nn.Embedding(vocab_size, hidden_size, padding_idx=42)\n",
    "        self.attn = nn.Linear(self.hidden_size * 2, self.max_length)\n",
    "        self.attn_combine = nn.Linear(self.hidden_size * 2, self.hidden_size)\n",
    "        self.dropout = nn.Dropout(self.dropout_p)\n",
    "        self.gru = nn.GRU(hidden_size, hidden_size)\n",
    "        self.out = nn.Linear(hidden_size, vocab_size)\n",
    "        self.softmax = nn.LogSoftmax(dim=1)\n",
    "        \n",
    "    def forward(self, input, hidden, eo):\n",
    "        embedded = self.embedding(input).view(1, 1, -1)\n",
    "        embedded = self.dropout(embedded)\n",
    "        \n",
    "        attn_weights = F.softmax(\n",
    "            self.attn(\n",
    "                torch.cat( (embedded[0], hidden[0]), 1)\n",
    "            ),\n",
    "            dim=1\n",
    "        )\n",
    "        attn_applied = torch.bmm(\n",
    "            attn_weights.unsqueeze(0)\n",
    "            , eo.unsqueeze(0)\n",
    "        )\n",
    "        output = torch.cat((embedded[0], attn_applied[0]), 1)\n",
    "        output = self.attn_combine(output).unsqueeze(0)\n",
    "        \n",
    "        output = F.relu(output)\n",
    "        output, hidden = self.gru(output, hidden)\n",
    "        output = self.softmax(self.out(output[0]))\n",
    "        return output, hidden, attn_weights\n",
    "    \n",
    "    def init_hidden(self, device=device):\n",
    "        return torch.zeros(1,1, self.hidden_size, device=device)\n",
    "        "
   ]
  },
  {
   "cell_type": "code",
   "execution_count": 360,
   "metadata": {},
   "outputs": [],
   "source": [
    "input_size = max_len_slang + 1\n",
    "vocab_size = 122 + 2 #include eos and sos\n",
    "embed_dim = max_len_slang + 1\n",
    "hidden_size = 256\n",
    "output_size = max_len_slang + 1\n",
    "e = Encoder(vocab_size, hidden_size)\n",
    "d = AttnDecoder(hidden_size, vocab_size)\n",
    "criterion = nn.CrossEntropyLoss(ignore_index=PAD_TOKEN)\n",
    "eoptimizer = optim.Adam(e.parameters())\n",
    "doptimizer = optim.Adam(d.parameters())\n"
   ]
  },
  {
   "cell_type": "code",
   "execution_count": 361,
   "metadata": {},
   "outputs": [],
   "source": [
    "import logging as log\n",
    "logger = log.getLogger()\n",
    "logger.setLevel(log.ERROR)"
   ]
  },
  {
   "cell_type": "code",
   "execution_count": 362,
   "metadata": {},
   "outputs": [],
   "source": [
    "def train(input_tensor, target_tensor, e, d, eop, dop, criterion, max_length=61):\n",
    "    eh = e.init_hidden()\n",
    "    eop.zero_grad()\n",
    "    dop.zero_grad()\n",
    "    \n",
    "    input_length = input_tensor.size(0)\n",
    "    output_length = target_tensor.size(0)\n",
    "    \n",
    "    eoutputs = torch.zeros(max_length, e.hidden_size)\n",
    "    loss = 0\n",
    "    \n",
    "    for ei in range(input_length):\n",
    "        eo, eh = e(input_tensor[ei], eh)\n",
    "        eoutputs[ei] = eo[0,0]\n",
    "    \n",
    "    # use only last context from encoder\n",
    "    dh = eh\n",
    "    dout = []\n",
    "    decoder_input = torch.tensor([[SOS_TOKEN]], device=device)\n",
    "    for di in range(output_length):\n",
    "        do, dh, da = d(decoder_input, dh, eoutputs)\n",
    "        topv, topi = do.topk(1)\n",
    "        decoder_input = topi.squeeze().detach()\n",
    "        dout.append(decoder_input)\n",
    "        log.info('predicted: {}, char: {}'.format(decoder_input, chr(decoder_input)))\n",
    "        loss += criterion(do, target_tensor[di].view(1))\n",
    "    loss.backward()\n",
    "    eop.step()\n",
    "    dop.step()\n",
    "#     ----------------------------------------\n",
    "    input_length = input_tensor.shape[0]\n",
    "\n",
    "    eh = e.init_hidden()\n",
    "\n",
    "    eoutputs = torch.zeros(max_length, e.hidden_size, device=device)\n",
    "\n",
    "    for ei in range(input_length):\n",
    "        eo, eh = e(input_tensor[ei],  eh)\n",
    "        eoutputs[ei] = eo[0,0]\n",
    "\n",
    "    dinput = torch.tensor([[SOS_TOKEN]], device=device)\n",
    "\n",
    "    doutputs = []\n",
    "    dh = eh\n",
    "    for di in range(max_length):\n",
    "        do, dh, da = d(dinput, dh, eoutputs)\n",
    "        topv, topi = do.topk(1)\n",
    "        char_i = topi.squeeze().detach()\n",
    "        doutputs.append(char_i)\n",
    "    \n",
    "    return loss.item() / max_length\n",
    "        \n",
    "    "
   ]
  },
  {
   "cell_type": "code",
   "execution_count": 363,
   "metadata": {},
   "outputs": [
    {
     "name": "stderr",
     "output_type": "stream",
     "text": [
      "100%|██████████| 50/50 [08:34<00:00,  9.62s/it]\n"
     ]
    }
   ],
   "source": [
    "epochs = 50\n",
    "losses = []\n",
    "epoch_avg_losses = []\n",
    "\n",
    "print_every = 1000\n",
    "for ep in tqdm(range(epochs)):\n",
    "    epoch_losses = []\n",
    "    epoch_loss = 0\n",
    "    for input_tensor, output_tensor in zip(to_torch(X_train.iloc[:50]), to_torch(y_train.iloc[:50])): \n",
    "        avg_loss = train(input_tensor, output_tensor, e, d, eoptimizer, doptimizer, criterion)\n",
    "        losses.append(avg_loss)\n",
    "        epoch_losses.append(avg_loss)\n",
    "    \n",
    "    epoch_loss = np.average(epoch_losses)\n",
    "    epoch_avg_losses.append(epoch_loss)\n",
    "        \n",
    "        \n",
    "    "
   ]
  },
  {
   "cell_type": "code",
   "execution_count": 379,
   "metadata": {},
   "outputs": [],
   "source": [
    "def evaluate_sentence(e, d, sentence, max_length=61, device=device):\n",
    "    input_tensor = to_torch(pd.Series([encoded_from_sentence(sentence, max_length)]))[0]\n",
    "    return evaluate(e, d, input_tensor, max_length=max_length, device=device)\n",
    "\n",
    "def evaluate(e, d, input_tensor, max_length=61, device=device):\n",
    "    with torch.no_grad():\n",
    "        eh = e.init_hidden()\n",
    "\n",
    "        input_length = input_tensor.size(0)\n",
    "        output_length = input_tensor.size(0)\n",
    "\n",
    "        eoutputs = torch.zeros(max_length, e.hidden_size)\n",
    "        loss = 0\n",
    "\n",
    "        for ei in range(input_length):\n",
    "            eo, eh = e(input_tensor[ei], eh)\n",
    "            eoutputs[ei] = eo[0,0]\n",
    "\n",
    "        # use only last context from encoder\n",
    "        dh = eh\n",
    "        dout = []\n",
    "        dattentions = torch.zeros(max_length, max_length)\n",
    "        decoder_input = torch.tensor([[SOS_TOKEN]], device=device)\n",
    "        for di in range(output_length):\n",
    "            do, dh, da = d(decoder_input, dh, eoutputs)\n",
    "            topv, topi = do.topk(1)\n",
    "                \n",
    "            decoder_input = topi.squeeze().detach()\n",
    "            log.info('[EVAL] predicted char: {}, {}'.format(decoder_input, chr(decoder_input)))\n",
    "            dattentions[di] = da.data\n",
    "            dout.append(decoder_input)\n",
    "            \n",
    "            \n",
    "\n",
    "        return decoded_to_sentence(dout)\n",
    "\n"
   ]
  },
  {
   "cell_type": "code",
   "execution_count": 369,
   "metadata": {},
   "outputs": [],
   "source": [
    "import matplotlib.pyplot as plt"
   ]
  },
  {
   "cell_type": "code",
   "execution_count": 370,
   "metadata": {},
   "outputs": [
    {
     "data": {
      "image/png": "[encoded data removed]",
      "text/plain": [
       "<Figure size 864x504 with 1 Axes>"
      ]
     },
     "metadata": {
      "needs_background": "light"
     },
     "output_type": "display_data"
    }
   ],
   "source": [
    "f, ax = plt.subplots(figsize=(12, 7))\n",
    "plt.plot(list(np.arange(len(losses))), losses)\n",
    "plt.show()\n"
   ]
  },
  {
   "cell_type": "code",
   "execution_count": 371,
   "metadata": {},
   "outputs": [
    {
     "data": {
      "image/png": "[encoded data removed]",
      "text/plain": [
       "<Figure size 864x504 with 1 Axes>"
      ]
     },
     "metadata": {
      "needs_background": "light"
     },
     "output_type": "display_data"
    }
   ],
   "source": [
    "f, ax = plt.subplots(figsize=(12, 7))\n",
    "plt.plot(list(np.arange(len(epoch_avg_losses))), epoch_avg_losses)\n",
    "plt.title('Epoch Avg Loss')\n",
    "plt.xlabel('epoch')\n",
    "plt.ylabel('loss')\n",
    "plt.show()"
   ]
  },
  {
   "cell_type": "code",
   "execution_count": 377,
   "metadata": {},
   "outputs": [
    {
     "name": "stdout",
     "output_type": "stream",
     "text": [
      "sm\n",
      "sama\u0001\u0001\u0001\u0001\u0001\u0001\u0001\u0001\u0001\u0001\u0001\u0001\u0001\u0001\u0001\u0001\u0001\u0001\u0001\u0001\u0001\u0001\u0001\u0001\u0001\u0001\u0001\u0001\u0001\u0001\u0001\u0001\u0001\u0001\u0001\u0001\u0001\u0001\u0001\u0001\u0001\u0001\u0001\u0001\u0001\u0001\u0001\u0001\u0001\u0001\u0001\u0001\n"
     ]
    }
   ],
   "source": [
    "i = 34\n",
    "sentence = df.iloc[X_train.iloc[:50].index[i]].slang\n",
    "target = df.iloc[y_train.iloc[:50].index[i]].formal\n",
    "print(sentence)\n",
    "input_tensor = to_torch(pd.Series([encoded_from_sentence(sentence, max_len_slang)]))[0]\n",
    "output_tensor = to_torch(pd.Series([encoded_from_sentence(target, max_len_slang)]))[0]\n",
    "train(input_tensor, output_tensor, e, d, eoptimizer, doptimizer, criterion)\n",
    "print(evaluate(e, d, input_tensor))"
   ]
  },
  {
   "cell_type": "code",
   "execution_count": 389,
   "metadata": {},
   "outputs": [
    {
     "name": "stderr",
     "output_type": "stream",
     "text": [
      "/home/arie/miniconda2/envs/data_analysis_351/lib/python3.5/site-packages/ipykernel_launcher.py:3: SettingWithCopyWarning: \n",
      "A value is trying to be set on a copy of a slice from a DataFrame.\n",
      "Try using .loc[row_indexer,col_indexer] = value instead\n",
      "\n",
      "See the caveats in the documentation: http://pandas.pydata.org/pandas-docs/stable/indexing.html#indexing-view-versus-copy\n",
      "  This is separate from the ipykernel package so we can avoid doing imports until\n"
     ]
    }
   ],
   "source": [
    "df_wt_prediction = df.iloc[X_train.iloc[:50].index]\n",
    "df_wt_prediction['predicted_formal'] = df_wt_prediction['slang'].apply(\n",
    "    lambda slang: evaluate_sentence(e, d, slang).replace(chr(1), '')\n",
    ")"
   ]
  },
  {
   "cell_type": "code",
   "execution_count": 399,
   "metadata": {},
   "outputs": [
    {
     "name": "stdout",
     "output_type": "stream",
     "text": [
      "accuracy: 0.98\n"
     ]
    }
   ],
   "source": [
    "from sklearn.metrics import accuracy_score\n",
    "\n",
    "print('accuracy: {}'.format(\n",
    "    accuracy_score(df_wt_prediction['formal'],  \n",
    "                   df_wt_prediction['predicted_formal']))\n",
    ")\n"
   ]
  },
  {
   "cell_type": "code",
   "execution_count": 401,
   "metadata": {},
   "outputs": [
    {
     "name": "stdout",
     "output_type": "stream",
     "text": [
      "accuracy: 0.59\n"
     ]
    },
    {
     "name": "stderr",
     "output_type": "stream",
     "text": [
      "/home/arie/miniconda2/envs/data_analysis_351/lib/python3.5/site-packages/ipykernel_launcher.py:3: SettingWithCopyWarning: \n",
      "A value is trying to be set on a copy of a slice from a DataFrame.\n",
      "Try using .loc[row_indexer,col_indexer] = value instead\n",
      "\n",
      "See the caveats in the documentation: http://pandas.pydata.org/pandas-docs/stable/indexing.html#indexing-view-versus-copy\n",
      "  This is separate from the ipykernel package so we can avoid doing imports until\n"
     ]
    }
   ],
   "source": [
    "df_wt_prediction = df.iloc[X_train.iloc[:100].index]\n",
    "df_wt_prediction['predicted_formal'] = df_wt_prediction['slang'].apply(\n",
    "    lambda slang: evaluate_sentence(e, d, slang).replace(chr(1), '')\n",
    ")\n",
    "print('accuracy: {}'.format(accuracy_score(df_wt_prediction['formal'],  df_wt_prediction['predicted_formal'])))"
   ]
  },
  {
   "cell_type": "code",
   "execution_count": 404,
   "metadata": {},
   "outputs": [],
   "source": [
    "df_wt_correct_prediction = df_wt_prediction[\n",
    "    df_wt_prediction.formal == df_wt_prediction.predicted_formal\n",
    "]"
   ]
  },
  {
   "cell_type": "code",
   "execution_count": 417,
   "metadata": {},
   "outputs": [],
   "source": [
    "import altair as alt"
   ]
  },
  {
   "cell_type": "code",
   "execution_count": 430,
   "metadata": {},
   "outputs": [
    {
     "data": {
      "application/vnd.vegalite.v2+json": {
       "$schema": "https://vega.github.io/schema/vega-lite/v2.6.0.json",
       "config": {
        "view": {
         "height": 300,
         "width": 400
        }
       },
       "data": {
        "name": "data-63a12db11e35c749a442ef4dc8923ad2"
       },
       "datasets": {
        "data-63a12db11e35c749a442ef4dc8923ad2": [
         {
          "category1": "abreviasi",
          "slang": 51
         },
         {
          "category1": "afiksasi",
          "slang": 10
         },
         {
          "category1": "anaptiksis",
          "slang": 4
         },
         {
          "category1": "elongasi",
          "slang": 10
         },
         {
          "category1": "homofon",
          "slang": 1
         },
         {
          "category1": "modifikasi vokal",
          "slang": 1
         },
         {
          "category1": "monoftongisasi",
          "slang": 1
         },
         {
          "category1": "pungtuasi",
          "slang": 1
         },
         {
          "category1": "reduplikasi",
          "slang": 4
         },
         {
          "category1": "salah ketik",
          "slang": 2
         },
         {
          "category1": "subtitusi",
          "slang": 1
         },
         {
          "category1": "zeroisasi",
          "slang": 14
         }
        ]
       },
       "encoding": {
        "x": {
         "field": "slang",
         "type": "quantitative"
        },
        "y": {
         "field": "category1",
         "sort": {
          "field": "slang",
          "op": "sum",
          "order": "descending"
         },
         "type": "nominal"
        }
       },
       "mark": "bar"
      },
      "image/png": "[encoded data removed]",
      "text/plain": [
       "<VegaLite 2 object>\n",
       "\n",
       "If you see this message, it means the renderer has not been properly enabled\n",
       "for the frontend that you are using. For more information, see\n",
       "https://altair-viz.github.io/user_guide/troubleshooting.html\n"
      ]
     },
     "execution_count": 430,
     "metadata": {},
     "output_type": "execute_result"
    }
   ],
   "source": [
    "agg_all = df_wt_prediction.groupby(\n",
    "    'category1'\n",
    ").agg('count')['slang'].reset_index()\n",
    "alt.Chart(agg_all).mark_bar().encode(\n",
    "    x='slang',\n",
    "    y=alt.Y(\n",
    "        'category1',\n",
    "        sort=alt.EncodingSortField(\n",
    "            field='slang',\n",
    "            op='sum',\n",
    "            order='descending'\n",
    "        )\n",
    "    )\n",
    ")"
   ]
  },
  {
   "cell_type": "code",
   "execution_count": 439,
   "metadata": {},
   "outputs": [
    {
     "data": {
      "application/vnd.vegalite.v2+json": {
       "$schema": "https://vega.github.io/schema/vega-lite/v2.6.0.json",
       "config": {
        "view": {
         "height": 300,
         "width": 400
        }
       },
       "data": {
        "name": "data-7876298b89e62d8a78a6eb95819793eb"
       },
       "datasets": {
        "data-7876298b89e62d8a78a6eb95819793eb": [
         {
          "category1": "abreviasi",
          "slang": 37
         },
         {
          "category1": "afiksasi",
          "slang": 6
         },
         {
          "category1": "anaptiksis",
          "slang": 2
         },
         {
          "category1": "elongasi",
          "slang": 5
         },
         {
          "category1": "monoftongisasi",
          "slang": 1
         },
         {
          "category1": "zeroisasi",
          "slang": 8
         }
        ]
       },
       "encoding": {
        "x": {
         "field": "slang",
         "type": "quantitative"
        },
        "y": {
         "field": "category1",
         "sort": {
          "field": "slang",
          "op": "sum",
          "order": "descending"
         },
         "type": "nominal"
        }
       },
       "mark": "bar"
      },
      "image/png": "[encoded data removed]",
      "text/plain": [
       "<VegaLite 2 object>\n",
       "\n",
       "If you see this message, it means the renderer has not been properly enabled\n",
       "for the frontend that you are using. For more information, see\n",
       "https://altair-viz.github.io/user_guide/troubleshooting.html\n"
      ]
     },
     "execution_count": 439,
     "metadata": {},
     "output_type": "execute_result"
    }
   ],
   "source": [
    "agg = df_wt_correct_prediction.groupby(\n",
    "    'category1'\n",
    ").agg('count')['slang']\n",
    "agg = agg.reset_index()\n",
    "alt.Chart(agg).mark_bar().encode(\n",
    "    x='slang',\n",
    "    y=alt.Y(\n",
    "        'category1',\n",
    "        sort=alt.EncodingSortField(\n",
    "            field='slang',\n",
    "            op='sum',\n",
    "            order='descending'\n",
    "        )\n",
    "    )\n",
    ")"
   ]
  },
  {
   "cell_type": "code",
   "execution_count": 458,
   "metadata": {},
   "outputs": [],
   "source": [
    "all_vs_correct_prediction = pd.merge(\n",
    "    agg_all, agg.rename(\n",
    "        index=str, columns={\n",
    "        'category1': 'correct_pred_category1', \n",
    "        'slang': 'correct_pred_slang'\n",
    "    })\n",
    ", left_on='category1', right_on='correct_pred_category1', how='left').fillna(0)\n",
    "all_vs_correct_prediction['correct_pct'] = all_vs_correct_prediction[\n",
    "    'correct_pred_slang'\n",
    "] / all_vs_correct_prediction['slang']"
   ]
  },
  {
   "cell_type": "code",
   "execution_count": 467,
   "metadata": {},
   "outputs": [
    {
     "data": {
      "application/vnd.vegalite.v2+json": {
       "$schema": "https://vega.github.io/schema/vega-lite/v2.6.0.json",
       "config": {
        "view": {
         "height": 300,
         "width": 400
        }
       },
       "data": {
        "name": "data-4b9f79250551a96912dc814df9ff8c2c"
       },
       "datasets": {
        "data-4b9f79250551a96912dc814df9ff8c2c": [
         {
          "category1": "abreviasi",
          "correct_pct": 0.7254901960784313,
          "correct_pred_category1": "abreviasi",
          "correct_pred_slang": 37,
          "slang": 51
         },
         {
          "category1": "afiksasi",
          "correct_pct": 0.6,
          "correct_pred_category1": "afiksasi",
          "correct_pred_slang": 6,
          "slang": 10
         },
         {
          "category1": "anaptiksis",
          "correct_pct": 0.5,
          "correct_pred_category1": "anaptiksis",
          "correct_pred_slang": 2,
          "slang": 4
         },
         {
          "category1": "elongasi",
          "correct_pct": 0.5,
          "correct_pred_category1": "elongasi",
          "correct_pred_slang": 5,
          "slang": 10
         },
         {
          "category1": "homofon",
          "correct_pct": 0,
          "correct_pred_category1": 0,
          "correct_pred_slang": 0,
          "slang": 1
         },
         {
          "category1": "modifikasi vokal",
          "correct_pct": 0,
          "correct_pred_category1": 0,
          "correct_pred_slang": 0,
          "slang": 1
         },
         {
          "category1": "monoftongisasi",
          "correct_pct": 1,
          "correct_pred_category1": "monoftongisasi",
          "correct_pred_slang": 1,
          "slang": 1
         },
         {
          "category1": "pungtuasi",
          "correct_pct": 0,
          "correct_pred_category1": 0,
          "correct_pred_slang": 0,
          "slang": 1
         },
         {
          "category1": "reduplikasi",
          "correct_pct": 0,
          "correct_pred_category1": 0,
          "correct_pred_slang": 0,
          "slang": 4
         },
         {
          "category1": "salah ketik",
          "correct_pct": 0,
          "correct_pred_category1": 0,
          "correct_pred_slang": 0,
          "slang": 2
         },
         {
          "category1": "subtitusi",
          "correct_pct": 0,
          "correct_pred_category1": 0,
          "correct_pred_slang": 0,
          "slang": 1
         },
         {
          "category1": "zeroisasi",
          "correct_pct": 0.5714285714285714,
          "correct_pred_category1": "zeroisasi",
          "correct_pred_slang": 8,
          "slang": 14
         }
        ]
       },
       "encoding": {
        "x": {
         "field": "correct_pct",
         "type": "quantitative"
        },
        "y": {
         "field": "category1",
         "sort": {
          "field": "correct_pct",
          "op": "sum",
          "order": "descending"
         },
         "type": "nominal"
        }
       },
       "mark": "bar"
      },
      "image/png": "[encoded data removed]",
      "text/plain": [
       "<VegaLite 2 object>\n",
       "\n",
       "If you see this message, it means the renderer has not been properly enabled\n",
       "for the frontend that you are using. For more information, see\n",
       "https://altair-viz.github.io/user_guide/troubleshooting.html\n"
      ]
     },
     "execution_count": 467,
     "metadata": {},
     "output_type": "execute_result"
    }
   ],
   "source": [
    "alt.Chart(all_vs_correct_prediction).mark_bar().encode(\n",
    "    x='correct_pct:Q',\n",
    "    y=alt.Y(\n",
    "        'category1:N'\n",
    "        , sort=alt.EncodingSortField(\n",
    "            field='correct_pct',\n",
    "            op='sum',\n",
    "            order='descending'\n",
    "        )\n",
    "    )\n",
    ")"
   ]
  }
 ],
 "metadata": {
  "kernelspec": {
   "display_name": "Python 3",
   "language": "python",
   "name": "python3"
  },
  "language_info": {
   "codemirror_mode": {
    "name": "ipython",
    "version": 3
   },
   "file_extension": ".py",
   "mimetype": "text/x-python",
   "name": "python",
   "nbconvert_exporter": "python",
   "pygments_lexer": "ipython3",
   "version": "3.5.4"
  }
 },
 "nbformat": 4,
 "nbformat_minor": 2
}
